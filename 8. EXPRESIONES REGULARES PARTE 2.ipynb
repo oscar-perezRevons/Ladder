{
 "cells": [
  {
   "cell_type": "markdown",
   "id": "8b63dfda",
   "metadata": {},
   "source": [
    "# Expresiones regulares en Python\n",
    "\n",
    "- ```import re```\n",
    "- La mayoría de las funciones aceptan dos parámetros: la expresión regular (string) y el texto en el cual se busca el patrón definido en la expresión regular\n",
    "- La mayoría de las funciones retornan un objeto de tipo ```re.Match``` con información sobre el resultado del emparejamiento"
   ]
  },
  {
   "cell_type": "code",
   "execution_count": 1,
   "id": "c67fd97c",
   "metadata": {},
   "outputs": [
    {
     "data": {
      "text/plain": [
       "'En el marco de la Lucha Contra el Contrabando, 1.197 cajas con tomate y 27 bosas de ají, mercadería de contrabando, al interior de una vivienda en la comunidad Talita, fueron decomisados por efectivos de la Capitanía de Puerto Mayor “Bermejo”, junto a la Aduana, Fiscalía de Bermejo y el Servicio Nacional de Sanidad Agropecuaria e Inocuidad Alimentaria.\\n\\n\"Este cargamento habría sido internado de manera ilegal a nuestro país para su comercialización, lamentablemente quienes se dedican a esta actividad ilícita piensan poco en el desmedro que puede ocasionar este tipo de productos, no solamente a la economía nacional sino también a la producción boliviana\", informó Eduardo Mendiola, comandante del Área Naval No. 3 “Bermejo”.\\n\\nMendiola aseveró que los operativos continuarán para evitar que haya más delitos de contrabando y otros que atentan a la economía del País'"
      ]
     },
     "execution_count": 1,
     "metadata": {},
     "output_type": "execute_result"
    }
   ],
   "source": [
    "texto = \"\"\"En el marco de la Lucha Contra el Contrabando, 1.197 cajas con tomate y 27 bosas de ají, mercadería de contrabando, al interior de una vivienda en la comunidad Talita, fueron decomisados por efectivos de la Capitanía de Puerto Mayor “Bermejo”, junto a la Aduana, Fiscalía de Bermejo y el Servicio Nacional de Sanidad Agropecuaria e Inocuidad Alimentaria.\n",
    "\n",
    "\"Este cargamento habría sido internado de manera ilegal a nuestro país para su comercialización, lamentablemente quienes se dedican a esta actividad ilícita piensan poco en el desmedro que puede ocasionar este tipo de productos, no solamente a la economía nacional sino también a la producción boliviana\", informó Eduardo Mendiola, comandante del Área Naval No. 3 “Bermejo”.\n",
    "\n",
    "Mendiola aseveró que los operativos continuarán para evitar que haya más delitos de contrabando y otros que atentan a la economía del País\"\"\"\n",
    "\n",
    "texto"
   ]
  },
  {
   "cell_type": "code",
   "execution_count": 2,
   "id": "6953c8b8",
   "metadata": {},
   "outputs": [],
   "source": [
    "import re\n"
   ]
  },
  {
   "cell_type": "code",
   "execution_count": 3,
   "id": "b387b77c",
   "metadata": {},
   "outputs": [
    {
     "name": "stdout",
     "output_type": "stream",
     "text": [
      "(258, 261)\n",
      "258\n",
      "261\n",
      "ana\n"
     ]
    }
   ],
   "source": [
    "match = re.search(r\"ana\", texto)\n",
    "\n",
    "# print(bool(match)) # match is not None\n",
    "\n",
    "print(match.span())\n",
    "print(match.start())\n",
    "print(match.end())\n",
    "\n",
    "print(texto[match.start():match.end()])"
   ]
  },
  {
   "cell_type": "markdown",
   "id": "aaeefe25",
   "metadata": {},
   "source": [
    "## Emparejamiento y agrupamiento"
   ]
  },
  {
   "cell_type": "code",
   "execution_count": 4,
   "id": "b5c653f4",
   "metadata": {},
   "outputs": [
    {
     "data": {
      "text/plain": [
       "True"
      ]
     },
     "execution_count": 4,
     "metadata": {},
     "output_type": "execute_result"
    }
   ],
   "source": [
    "#re.match busca al principio del texto (^)\n",
    "match = re.match(r\"ana\", texto)\n",
    "match is None"
   ]
  },
  {
   "cell_type": "code",
   "execution_count": 5,
   "id": "8be50aab",
   "metadata": {},
   "outputs": [
    {
     "data": {
      "text/plain": [
       "True"
      ]
     },
     "execution_count": 5,
     "metadata": {},
     "output_type": "execute_result"
    }
   ],
   "source": [
    "#re.match busca al principio del texto (^)\n",
    "match = re.search(r\"^ana\", texto)\n",
    "match is None"
   ]
  },
  {
   "cell_type": "code",
   "execution_count": 6,
   "id": "e6e329b1",
   "metadata": {},
   "outputs": [
    {
     "data": {
      "text/plain": [
       "['la', 'la', 'la', 'la', 'la', 'la', 'la', 'la', 'la', 'la', 'lo', 'la']"
      ]
     },
     "execution_count": 6,
     "metadata": {},
     "output_type": "execute_result"
    }
   ],
   "source": [
    "#re.findall retorna una lista re.finditer retorna un iterable\n",
    "re.findall(r\"l[ao]\", texto)"
   ]
  },
  {
   "cell_type": "code",
   "execution_count": 7,
   "id": "3a5032f5",
   "metadata": {},
   "outputs": [
    {
     "data": {
      "text/plain": [
       "[]"
      ]
     },
     "execution_count": 7,
     "metadata": {},
     "output_type": "execute_result"
    }
   ],
   "source": [
    "re.findall(r\"^ana\", texto)"
   ]
  },
  {
   "cell_type": "code",
   "execution_count": null,
   "id": "7da756f9",
   "metadata": {},
   "outputs": [],
   "source": [
    "# Probar re.finditer(pattern, string, flags=0)"
   ]
  },
  {
   "cell_type": "code",
   "execution_count": 15,
   "id": "63005c38",
   "metadata": {
    "scrolled": true
   },
   "outputs": [
    {
     "name": "stdout",
     "output_type": "stream",
     "text": [
      "('97',)\n",
      "{}\n",
      "197\n",
      "97\n",
      "('197', '97')\n"
     ]
    }
   ],
   "source": [
    "#El objeto match permite acceder a los grupos capturados por la regex\n",
    "\n",
    "match = re.search(r\"1(\\d+)\", texto)\n",
    "\n",
    "print(match.groups())\n",
    "print(match.groupdict())\n",
    "\n",
    "print(match.group(0))\n",
    "print(match.group(1))\n",
    "\n",
    "print(match.group(0,1))"
   ]
  },
  {
   "cell_type": "code",
   "execution_count": 16,
   "id": "f2c8740b",
   "metadata": {
    "scrolled": true
   },
   "outputs": [
    {
     "name": "stdout",
     "output_type": "stream",
     "text": [
      "{'number': '97'}\n",
      "97\n"
     ]
    }
   ],
   "source": [
    "#Es posible asignar nombres a los grupos\n",
    "match = re.search(r\"1(?P<number>\\d+)\", texto)\n",
    "\n",
    "print(match.groupdict())\n",
    "print(match.group('number'))"
   ]
  },
  {
   "cell_type": "markdown",
   "id": "b24eba24",
   "metadata": {},
   "source": [
    "## __[Sustituciones](https://docs.python.org/3/library/re.html#re.sub)__"
   ]
  },
  {
   "cell_type": "code",
   "execution_count": 17,
   "id": "b7a0ad4d",
   "metadata": {},
   "outputs": [
    {
     "data": {
      "text/plain": [
       "'En el marco de la Lucha Contra el Contrabando, 1.197 2.130 cajas con tomate y 27 bosas de ají, mercadería de contrabando, al interior de una vivienda en la comunidad Talita, fueron decomisados '"
      ]
     },
     "execution_count": 17,
     "metadata": {},
     "output_type": "execute_result"
    }
   ],
   "source": [
    "texto = \"En el marco de la Lucha Contra el Contrabando, 1.197 2.130 cajas con tomate y 27 bosas de ají, \\\n",
    "mercadería de contrabando, al interior de una vivienda en la comunidad Talita, fueron decomisados \"\n",
    "texto"
   ]
  },
  {
   "cell_type": "code",
   "execution_count": 18,
   "id": "a1147727",
   "metadata": {},
   "outputs": [
    {
     "data": {
      "text/plain": [
       "'En el marco de la Lucha Contra el Contrabando, #.### #.### cajas con tomate y ## bosas de ají, mercadería de contrabando, al interior de una vivienda en la comunidad Talita, fueron decomisados '"
      ]
     },
     "execution_count": 18,
     "metadata": {},
     "output_type": "execute_result"
    }
   ],
   "source": [
    "#Reemplazar dígitos por '#'\n",
    "re.sub(r\"\\d\", \"#\", texto)\n",
    "#re.sub(r\"\\d\", \"\", texto)"
   ]
  },
  {
   "cell_type": "code",
   "execution_count": 19,
   "id": "39ee6c97",
   "metadata": {},
   "outputs": [
    {
     "data": {
      "text/plain": [
       "'En el marco de la Lucha Contra el Contrabando, #.197 2.130 cajas con tomate y 27 bosas de ají, mercadería de contrabando, al interior de una vivienda en la comunidad Talita, fueron decomisados '"
      ]
     },
     "execution_count": 19,
     "metadata": {},
     "output_type": "execute_result"
    }
   ],
   "source": [
    "#Reemplazar dígitos por '#'\n",
    "re.sub(r\"\\d\", \"#\", texto, count = 1)"
   ]
  },
  {
   "cell_type": "code",
   "execution_count": 22,
   "id": "e518cbe4-4634-41ae-8ab3-01a9a727a5bd",
   "metadata": {},
   "outputs": [
    {
     "data": {
      "text/plain": [
       "'En el marco de la Lucha Contra el Contrabando, 1.197 2.130 cajas con tomate y 27 bosas de ají, mercadería de contrabando, al interior de una vivienda en la comunidad Talita, fueron decomisados '"
      ]
     },
     "execution_count": 22,
     "metadata": {},
     "output_type": "execute_result"
    }
   ],
   "source": [
    "texto"
   ]
  },
  {
   "cell_type": "code",
   "execution_count": 22,
   "id": "3791987c",
   "metadata": {},
   "outputs": [
    {
     "data": {
      "text/plain": [
       "'En el marco de la Lucha Contra el Contrabando, \\x00 \\x00 cajas con tomate y 27 bosas de ají, mercadería de contrabando, al interior de una vivienda en la comunidad Talita, fueron decomisados '"
      ]
     },
     "execution_count": 22,
     "metadata": {},
     "output_type": "execute_result"
    }
   ],
   "source": [
    "#Emplear partes de la cadena en el substitución para reemplazar '.' por ','\n",
    "re.sub(r'(\\d)\\.(\\d{3})', r'\\1,\\2', texto)\n",
    "re.sub(r'(\\d)\\.(\\d{3})', r'\\2', texto)\n",
    "re.sub(r'(\\d)\\.(\\d{3})', r'\\0', texto)"
   ]
  },
  {
   "cell_type": "markdown",
   "id": "d4ddd4aa",
   "metadata": {},
   "source": [
    "## __[Tokenización](https://docs.python.org/3/library/re.html#re.split)__"
   ]
  },
  {
   "cell_type": "code",
   "execution_count": 23,
   "id": "024dcbf4",
   "metadata": {},
   "outputs": [
    {
     "data": {
      "text/plain": [
       "['uno', ' dos', ' tres']"
      ]
     },
     "execution_count": 23,
     "metadata": {},
     "output_type": "execute_result"
    }
   ],
   "source": [
    "\"uno, dos, tres\".split(\",\")"
   ]
  },
  {
   "cell_type": "code",
   "execution_count": 4,
   "id": "765f3989",
   "metadata": {},
   "outputs": [
    {
     "data": {
      "text/plain": [
       "['Mis múmeros favoritos son ', ' y ', '']"
      ]
     },
     "execution_count": 4,
     "metadata": {},
     "output_type": "execute_result"
    }
   ],
   "source": [
    "re.split(r\"\\d+\", \"Mis múmeros favoritos son 7 y 69\")"
   ]
  },
  {
   "cell_type": "code",
   "execution_count": 27,
   "id": "2ea529b4",
   "metadata": {},
   "outputs": [
    {
     "data": {
      "text/plain": [
       "['Mis múmeros favoritos son ', ' y 69']"
      ]
     },
     "execution_count": 27,
     "metadata": {},
     "output_type": "execute_result"
    }
   ],
   "source": [
    "re.split(r\"\\d+\", \"Mis múmeros favoritos son 7 y 69\", maxsplit = 1)"
   ]
  },
  {
   "cell_type": "code",
   "execution_count": 5,
   "id": "c4e5c85a",
   "metadata": {},
   "outputs": [
    {
     "data": {
      "text/plain": [
       "['Mis múmeros favoritos son ', '7', ' y ', '69', '']"
      ]
     },
     "execution_count": 5,
     "metadata": {},
     "output_type": "execute_result"
    }
   ],
   "source": [
    "re.split(r\"(\\d+)\", \"Mis múmeros favoritos son 7 y 69\")"
   ]
  },
  {
   "cell_type": "markdown",
   "id": "7ad528c4",
   "metadata": {},
   "source": [
    "##  __[Moficadores (flags)](https://docs.python.org/3/library/re.html#re.A)__"
   ]
  },
  {
   "cell_type": "code",
   "execution_count": 6,
   "id": "458565c9",
   "metadata": {},
   "outputs": [
    {
     "data": {
      "text/plain": [
       "True"
      ]
     },
     "execution_count": 6,
     "metadata": {},
     "output_type": "execute_result"
    }
   ],
   "source": [
    "match = re.search(r\"a+\", \"AAA\")\n",
    "match is None"
   ]
  },
  {
   "cell_type": "code",
   "execution_count": 9,
   "id": "18afb64b",
   "metadata": {},
   "outputs": [
    {
     "data": {
      "text/plain": [
       "False"
      ]
     },
     "execution_count": 9,
     "metadata": {},
     "output_type": "execute_result"
    }
   ],
   "source": [
    "match = re.search(r\"a+\", \"AAA\", re.IGNORECASE )\n",
    "match is None"
   ]
  },
  {
   "cell_type": "code",
   "execution_count": 11,
   "id": "50dc2433",
   "metadata": {},
   "outputs": [
    {
     "data": {
      "text/plain": [
       "'En el marco de la Lucha Contra el Contrabando, 1,197 2 2,130 2 cajas con tomate y 27 bosas de ají, mercadería de contrabando, al interior de una vivienda en la comunidad Talita, fueron decomisados '"
      ]
     },
     "execution_count": 11,
     "metadata": {},
     "output_type": "execute_result"
    }
   ],
   "source": [
    "#re.VERBOSE ignora los espacios en el texto de la regex\n",
    "cambiar_separador_decimal_regex = re.compile(r\"\"\"(\\d)             #Un dígito\n",
    "                                                \\.                #El punto\n",
    "                                                (\\d{3})           #Tres dígitos\"\"\", re.VERBOSE)\n",
    "cambiar_separador_decimal_regex.sub(r'\\1,\\2 2', texto)\n",
    "\n",
    "#Es posible combinar varios modificadores: re.IGNORECASE | re.VERBOSE"
   ]
  },
  {
   "cell_type": "markdown",
   "id": "54db79d0-9f2a-4544-99ac-0afa0e99d084",
   "metadata": {},
   "source": [
    "## Las dos formas de aplicar una expresión regular\n",
    "\n",
    "- como cadena\n",
    "- como objeto"
   ]
  },
  {
   "cell_type": "code",
   "execution_count": 28,
   "id": "5a68393f",
   "metadata": {},
   "outputs": [
    {
     "data": {
      "text/plain": [
       "'En el marco de la Lucha Contra el Contrabando, 1,197 2,130 cajas con tomate y 27 bosas de ají, mercadería de contrabando, al interior de una vivienda en la comunidad Talita, fueron decomisados '"
      ]
     },
     "execution_count": 28,
     "metadata": {},
     "output_type": "execute_result"
    }
   ],
   "source": [
    "re.sub(r'(\\d)\\.(\\d{3})', r'\\1,\\2 2', texto)"
   ]
  },
  {
   "cell_type": "code",
   "execution_count": 12,
   "id": "83a9367d",
   "metadata": {},
   "outputs": [
    {
     "data": {
      "text/plain": [
       "'En el marco de la Lucha Contra el Contrabando, 1,197 2,130 cajas con tomate y 27 bosas de ají, mercadería de contrabando, al interior de una vivienda en la comunidad Talita, fueron decomisados '"
      ]
     },
     "execution_count": 12,
     "metadata": {},
     "output_type": "execute_result"
    }
   ],
   "source": [
    "# Sin re.VERBOSE\n",
    "reg_ex = re.compile(r'(\\d)\\.(\\d{3})')\n",
    "reg_ex.sub(r'\\1,\\2', texto)"
   ]
  },
  {
   "cell_type": "markdown",
   "id": "44cac9a8",
   "metadata": {},
   "source": [
    "**Tarea**\n",
    "\n",
    "Investigar el propósito de estos modificadores\n",
    "\n",
    "- re.MULTILINE\n",
    "- re.DOTALL"
   ]
  },
  {
   "cell_type": "markdown",
   "id": "dfed559d",
   "metadata": {},
   "source": [
    "## Look around\n",
    "\n",
    "- (?=foo)\tLook ahead\n",
    "- (?<=foo)\tLook behind\n",
    "- (?!foo)\tNegative Look ahead\n",
    "- (?<!foo)\tNegative Look behind"
   ]
  },
  {
   "cell_type": "code",
   "execution_count": 23,
   "id": "f1bd78bf",
   "metadata": {},
   "outputs": [
    {
     "data": {
      "text/plain": [
       "'En el marco de la Lucha Contra el Contrabando, 1.197 cajas con tomate y 27 bosas de ají, mercadería de contrabando, al interior de una vivienda en la comunidad Talita, fueron decomisados y los propietarios imputados por delito de contrabando'"
      ]
     },
     "execution_count": 23,
     "metadata": {},
     "output_type": "execute_result"
    }
   ],
   "source": [
    "texto = \"En el marco de la Lucha Contra el Contrabando, 1.197 cajas con tomate y 27 bosas de ají, \\\n",
    "mercadería de contrabando, al interior de una vivienda en la comunidad Talita, fueron decomisados y los propietarios \\\n",
    "imputados por delito de contrabando\"\n",
    "texto"
   ]
  },
  {
   "cell_type": "markdown",
   "id": "74192920",
   "metadata": {},
   "source": [
    "### Look ahead"
   ]
  },
  {
   "cell_type": "code",
   "execution_count": 24,
   "id": "3d75030e",
   "metadata": {},
   "outputs": [
    {
     "data": {
      "text/plain": [
       "<re.Match object; span=(103, 115), match='contrabando,'>"
      ]
     },
     "execution_count": 24,
     "metadata": {},
     "output_type": "execute_result"
    }
   ],
   "source": [
    "match =  re.search(r\"contrabando,\", texto)\n",
    "match"
   ]
  },
  {
   "cell_type": "code",
   "execution_count": 15,
   "id": "0963f986",
   "metadata": {},
   "outputs": [
    {
     "data": {
      "text/plain": [
       "<re.Match object; span=(103, 114), match='contrabando'>"
      ]
     },
     "execution_count": 15,
     "metadata": {},
     "output_type": "execute_result"
    }
   ],
   "source": [
    "#'Contrabando' seguido de ','\n",
    "match =  re.search(r\"contrabando(?=,)\", texto)\n",
    "match"
   ]
  },
  {
   "cell_type": "code",
   "execution_count": 30,
   "id": "cbd6cbce",
   "metadata": {},
   "outputs": [],
   "source": [
    "#'Contrabando' NO seguido de ','"
   ]
  },
  {
   "cell_type": "code",
   "execution_count": 9,
   "id": "14e53a34",
   "metadata": {},
   "outputs": [
    {
     "data": {
      "text/plain": [
       "<re.Match object; span=(230, 241), match='contrabando'>"
      ]
     },
     "execution_count": 9,
     "metadata": {},
     "output_type": "execute_result"
    }
   ],
   "source": [
    "match =  re.search(r\"contrabando(?!,)\", texto)\n",
    "match"
   ]
  },
  {
   "cell_type": "markdown",
   "id": "00edf3dc",
   "metadata": {},
   "source": [
    "### Look behind"
   ]
  },
  {
   "cell_type": "code",
   "execution_count": 10,
   "id": "a55ffcf0",
   "metadata": {},
   "outputs": [
    {
     "data": {
      "text/plain": [
       "<re.Match object; span=(45, 47), match=', '>"
      ]
     },
     "execution_count": 10,
     "metadata": {},
     "output_type": "execute_result"
    }
   ],
   "source": [
    "match =  re.search(r\",\\s\", texto)\n",
    "match"
   ]
  },
  {
   "cell_type": "code",
   "execution_count": 11,
   "id": "62e89de0",
   "metadata": {},
   "outputs": [
    {
     "data": {
      "text/plain": [
       "<re.Match object; span=(46, 47), match=' '>"
      ]
     },
     "execution_count": 11,
     "metadata": {},
     "output_type": "execute_result"
    }
   ],
   "source": [
    "#espacio precedido por ','\n",
    "match =  re.search(r\"(?<=,)\\s\", texto)\n",
    "match"
   ]
  },
  {
   "cell_type": "code",
   "execution_count": 12,
   "id": "d1398ced",
   "metadata": {},
   "outputs": [
    {
     "data": {
      "text/plain": [
       "<re.Match object; span=(2, 3), match=' '>"
      ]
     },
     "execution_count": 12,
     "metadata": {},
     "output_type": "execute_result"
    }
   ],
   "source": [
    "#espacio NO precedido por ','\n",
    "match =  re.search(r\"(?<!,)\\s\", texto)\n",
    "match"
   ]
  },
  {
   "cell_type": "markdown",
   "id": "7805014b-f304-4c6d-9074-63f58c03ddaa",
   "metadata": {},
   "source": [
    "# Referencias\n",
    "\n",
    "- [Tutorial de Expresiones Regulares en Python](https://www.datacamp.com/es/tutorial/python-regular-expression-tutorial)"
   ]
  }
 ],
 "metadata": {
  "kernelspec": {
   "display_name": "Python 3 (ipykernel)",
   "language": "python",
   "name": "python3"
  },
  "language_info": {
   "codemirror_mode": {
    "name": "ipython",
    "version": 3
   },
   "file_extension": ".py",
   "mimetype": "text/x-python",
   "name": "python",
   "nbconvert_exporter": "python",
   "pygments_lexer": "ipython3",
   "version": "3.12.9"
  }
 },
 "nbformat": 4,
 "nbformat_minor": 5
}
