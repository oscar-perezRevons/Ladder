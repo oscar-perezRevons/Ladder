{
 "cells": [
  {
   "cell_type": "markdown",
   "id": "9e325849",
   "metadata": {},
   "source": [
    "# Expresiones regulares\n",
    "\n",
    "Las expresiones regulares son cadenas que definen un patrón empleado para encontrar cadenas que emparejan dicho patrón. Algunas aplicaciones de las expresiones regulares son:\n",
    "\n",
    "- Validación de datos\n",
    "- Búsqueda y reemplazo\n",
    "- Extracción de datos de un texto"
   ]
  },
  {
   "cell_type": "markdown",
   "id": "d138de52",
   "metadata": {},
   "source": [
    "## Emparejamiento literal\n",
    "- ```ana```\n",
    "- ```Ana```"
   ]
  },
  {
   "cell_type": "markdown",
   "id": "e695e0f5",
   "metadata": {},
   "source": [
    "## Emparejamiento por clases y rangos\n",
    "- ```amig[oa]```\n",
    "- ```l[ao]```\n",
    "- ```[0-9][0-9]```\n",
    "- ```[a-z]```\n",
    "- ```[A-Z][A-Za-z]```\n",
    "- ```[^0-9]```\n",
    "- ```[AZ] = A|Z```"
   ]
  },
  {
   "cell_type": "markdown",
   "id": "d520fe76",
   "metadata": {},
   "source": [
    "## Meta caracteres\n",
    "\n",
    "Caracteres que representan clases: dígitos, espacios, palabras, etc.\n",
    "\n",
    "- ```.``` (Punto - cualquier caracter excepto los saltos de línea)\n",
    "- ```\\.``` - 'escapar' un meta caracter\n",
    "- ```\\w = [a-zA-Z0-9_]``` (word)\n",
    "- ```\\W = [^a-zA-Z0-9_]```  (not word)\n",
    "- ```\\d``` (digit)\n",
    "- ```\\D``` (not digit)\n",
    "- ```\\s``` (space - \\t, \\r, \\n)\n",
    "- ```\\S``` (not space)"
   ]
  },
  {
   "cell_type": "markdown",
   "id": "bc4c1b47",
   "metadata": {
    "jp-MarkdownHeadingCollapsed": true
   },
   "source": [
    "## Anclaje de la búsqueda al principio o al final\n",
    "- ```^ - ^[EM]``` (al principio)\n",
    "- ```$ - \\.$``` (al final)\n",
    "- ```\\b - \\bp, s\\b``` (boundary)\n",
    "- ```\\B - \\Bp``` (not boundary)\n",
    "\n",
    "Probar con y sin modo **multine**."
   ]
  },
  {
   "cell_type": "markdown",
   "id": "4b9528c6",
   "metadata": {},
   "source": [
    "## Cuantificadores\n",
    "\n",
    "- ```*``` Cero o más repeticiones ```1\\d*```\n",
    "- ```+``` Uno o más repeticiones ```1\\d+```\n",
    "- ```?``` Cero o una repetición ```1\\d?```\n",
    "- ```{m,n}``` Entre ```m``` y ```n``` repeticiones```1\\d{1,3}```\n",
    "- ```{m,}``` Al menos ```m```repeticiones```1\\d{2,}```\n",
    "- ```{m}``` Exactamente ```m```repeticiones```1\\d{2}```\n",
    "\n",
    "\n",
    "**Tarea**\n",
    "- Averiguar la diferencia en el comportamiento de los cuantificadores cuando __[operan en modo *greedy* o no *greedy* (glotón)](https://javascript.info/regexp-greedy-and-lazy)__\n",
    "- Elaborar algunos ejemplos que muestren la diferencia"
   ]
  },
  {
   "cell_type": "markdown",
   "id": "a17ea338-970c-4cb4-b7d8-4877b2622413",
   "metadata": {},
   "source": [
    "- Modo Greedy (glotón): El cuantificador intenta capturar la mayor cantidad posible de caracteres que coinciden con el patrón.\n",
    "- Modo Non-Greedy (no glotón): El cuantificador intenta capturar la menor cantidad posible de caracteres que coinciden con el patrón."
   ]
  },
  {
   "cell_type": "code",
   "execution_count": 2,
   "id": "46ace2f0-7342-4039-a078-ec427afc5575",
   "metadata": {},
   "outputs": [
    {
     "name": "stdout",
     "output_type": "stream",
     "text": [
      "Greedy: ['1234', '5678', '90']\n",
      "Non-Greedy: ['12', '34', '56', '78', '90']\n"
     ]
    }
   ],
   "source": [
    "import re\n",
    "\n",
    "# Modo Greedy\n",
    "pattern_greedy = r'\\d{2,4}'\n",
    "text = \"1234567890\"\n",
    "matches_greedy = re.findall(pattern_greedy, text)\n",
    "print(\"Greedy:\", matches_greedy)  # ['1234', '5678', '90']\n",
    "\n",
    "# Modo Non-Greedy\n",
    "pattern_non_greedy = r'\\d{2,4}?'\n",
    "matches_non_greedy = re.findall(pattern_non_greedy, text)\n",
    "print(\"Non-Greedy:\", matches_non_greedy)  # ['12', '34', '56', '78', '90']"
   ]
  },
  {
   "cell_type": "markdown",
   "id": "9e31711e",
   "metadata": {},
   "source": [
    "## Agrupamiento\n",
    "\n",
    "El agrupamiento facilita acceso al contenido emparejado con un patrón.\n",
    "\n",
    "- ```1\\d+  (1\\d+)  1(\\d+)   1(\\d)+  1(\\d)*  1(\\d)*?``` "
   ]
  },
  {
   "cell_type": "code",
   "execution_count": 3,
   "id": "a4db77e4",
   "metadata": {},
   "outputs": [
    {
     "data": {
      "text/plain": [
       "'En el marco de la Lucha Contra el Contrabando, 1.197 cajas con tomate y 27 bosas de ají, mercadería de contrabando, al interior de una vivienda en la comunidad Talita, fueron decomisados por efectivos de la Capitanía de Puerto Mayor “Bermejo”, junto a la Aduana, Fiscalía de Bermejo y el Servicio Nacional de Sanidad Agropecuaria e Inocuidad Alimentaria.\\n\\n\"Este cargamento habría sido internado de manera ilegal a nuestro país para su comercialización, lamentablemente quienes se dedican a esta actividad ilícita piensan poco en el desmedro que puede ocasionar este tipo de productos, no solamente a la economía nacional sino también a la producción boliviana\", informó Eduardo Mendiola, comandante del Área Naval No. 3 “Bermejo”.\\n\\nMendiola aseveró que los operativos continuarán para evitar que haya más delitos de contrabando y otros que atentan a la economía del País'"
      ]
     },
     "execution_count": 3,
     "metadata": {},
     "output_type": "execute_result"
    }
   ],
   "source": [
    "texto = \"\"\"En el marco de la Lucha Contra el Contrabando, 1.197 cajas con tomate y 27 bosas de ají, mercadería de contrabando, al interior de una vivienda en la comunidad Talita, fueron decomisados por efectivos de la Capitanía de Puerto Mayor “Bermejo”, junto a la Aduana, Fiscalía de Bermejo y el Servicio Nacional de Sanidad Agropecuaria e Inocuidad Alimentaria.\n",
    "\n",
    "\"Este cargamento habría sido internado de manera ilegal a nuestro país para su comercialización, lamentablemente quienes se dedican a esta actividad ilícita piensan poco en el desmedro que puede ocasionar este tipo de productos, no solamente a la economía nacional sino también a la producción boliviana\", informó Eduardo Mendiola, comandante del Área Naval No. 3 “Bermejo”.\n",
    "\n",
    "Mendiola aseveró que los operativos continuarán para evitar que haya más delitos de contrabando y otros que atentan a la economía del País\"\"\"\n",
    "texto"
   ]
  },
  {
   "cell_type": "markdown",
   "id": "0d6bf97e",
   "metadata": {},
   "source": [
    "# Referencias\n",
    "\n",
    "- __[Regular Expressions 101](https://regex101.com/)__\n",
    "\n",
    "- __[Regular Expression HOWTO](https://docs.python.org/3/howto/regex.html#module-level-functions)__\n",
    "\n",
    "- __[Regular expression operations](https://docs.python.org/3/library/re.html#module-contents)__\n",
    "\n",
    "- __[Python regex - Raw String Notation](https://docs.python.org/3/library/re.html#raw-string-notation)__\n",
    "\n",
    "- __[Regex Cheat Sheet: A Quick Guide to Regular Expressions in Python](https://www.dataquest.io/blog/regex-cheatsheet/)__\n",
    "\n",
    "- __[Regular Expression cheat sheet](https://web.mit.edu/hackl/www/lab/turkshop/slides/regex-cheatsheet.pdf)__\n",
    "\n",
    "- __[RegexBuddy - Learn, Create, Understand, Test, Use and Save Regular Expressions](https://www.regexbuddy.com/)__\n",
    "\n",
    "- __[Decomisan más de mil cajas con tomate de contrabando en Bermejo](https://www.lostiempos.com/actualidad/pais/20210807/decomisan-mas-mil-cajas-tomate-contrabando-bermejo)__"
   ]
  },
  {
   "cell_type": "code",
   "execution_count": null,
   "id": "b7cf217d",
   "metadata": {},
   "outputs": [],
   "source": []
  }
 ],
 "metadata": {
  "kernelspec": {
   "display_name": "Python 3 (ipykernel)",
   "language": "python",
   "name": "python3"
  },
  "language_info": {
   "codemirror_mode": {
    "name": "ipython",
    "version": 3
   },
   "file_extension": ".py",
   "mimetype": "text/x-python",
   "name": "python",
   "nbconvert_exporter": "python",
   "pygments_lexer": "ipython3",
   "version": "3.12.9"
  }
 },
 "nbformat": 4,
 "nbformat_minor": 5
}
