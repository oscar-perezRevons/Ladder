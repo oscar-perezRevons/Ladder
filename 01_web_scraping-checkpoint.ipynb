{
 "cells": [
  {
   "cell_type": "markdown",
   "metadata": {},
   "source": [
    "## Web Scraping\n",
    "\n",
    "__[What is web scraping?](https://www.imperva.com/learn/application-security/web-scraping-attack/)__\n",
    "\n",
    "__[Estándar de exclusión de robots](https://es.wikipedia.org/wiki/Est%C3%A1ndar_de_exclusi%C3%B3n_de_robots)__\n",
    "\n",
    "__[5 Things You Need to Know Before Scraping Data From Facebook](https://www.octoparse.com/blog/5-things-you-need-to-know-before-scraping-data-from-facebook)__\n",
    "\n",
    "__[Beautiful Soup Documentation](https://www.crummy.com/software/BeautifulSoup/bs4/doc/)__"
   ]
  },
  {
   "cell_type": "markdown",
   "metadata": {},
   "source": [
    "Web Scraping: extraer datos del contenido HTML de un sitio web\n",
    "\n",
    "Evitar realizar este proceso si ha sido prohibido explícitamente."
   ]
  },
  {
   "cell_type": "markdown",
   "metadata": {},
   "source": [
    "https://archive.ics.uci.edu/ml/datasets/auto+mpg\n",
    "\n",
    "Auto MPG Data Set\n",
    "\n",
    "Extraer los siguientes datos desde http://localhost:8000/auto_mpg.html:\n",
    "\n",
    "'nombre', 'cilindros', peso', 'anio', 'territorio', 'aceleracion', \n",
    "'mpg', 'caballos_potencia', 'desplazamiento'\n",
    "\n",
    "**Iniciar un servidor web local:**\n",
    "python -m http.server"
   ]
  },
  {
   "cell_type": "code",
   "execution_count": 1,
   "metadata": {},
   "outputs": [],
   "source": [
    "import requests\n",
    "respuesta = requests.get(\"http://localhost:8000/auto_mpg.html\")"
   ]
  },
  {
   "cell_type": "code",
   "execution_count": 2,
   "metadata": {},
   "outputs": [
    {
     "data": {
      "text/plain": [
       "<Response [200]>"
      ]
     },
     "execution_count": 2,
     "metadata": {},
     "output_type": "execute_result"
    }
   ],
   "source": [
    "respuesta"
   ]
  },
  {
   "cell_type": "code",
   "execution_count": 4,
   "metadata": {},
   "outputs": [],
   "source": [
    "# respuesta.text"
   ]
  },
  {
   "cell_type": "code",
   "execution_count": 5,
   "metadata": {},
   "outputs": [],
   "source": [
    "#Importar la clase BeautifulSoup del módulo bs4\n",
    "from bs4 import BeautifulSoup\n",
    "pagina = BeautifulSoup(respuesta.text, \"html.parser\" )\n",
    "#Demo. Chrome Developer Tools: Explorar la estructura de la página para identificar los elementos que contienen los datos\n",
    "#https://www.tutorialspoint.com/beautiful_soup/beautiful_soup_encoding.htm"
   ]
  },
  {
   "cell_type": "code",
   "execution_count": 7,
   "metadata": {},
   "outputs": [],
   "source": [
    "# pagina?"
   ]
  },
  {
   "cell_type": "code",
   "execution_count": 12,
   "metadata": {},
   "outputs": [],
   "source": [
    "# print(pagina.prettify())"
   ]
  },
  {
   "cell_type": "code",
   "execution_count": 10,
   "metadata": {},
   "outputs": [
    {
     "data": {
      "text/plain": [
       "bs4.element.Tag"
      ]
     },
     "execution_count": 10,
     "metadata": {},
     "output_type": "execute_result"
    }
   ],
   "source": [
    "# type(pagina.body)"
   ]
  },
  {
   "cell_type": "code",
   "execution_count": 13,
   "metadata": {},
   "outputs": [],
   "source": [
    "# print(pagina.body)"
   ]
  },
  {
   "cell_type": "code",
   "execution_count": 21,
   "metadata": {},
   "outputs": [],
   "source": [
    "# print(pagina.body)\n",
    "# print(pagina.body.find(name=\"div\", attrs={\"id\":\"car-1\"}))\n",
    "# print(len(pagina.body.find_all(name=\"div\", attrs={\"class\":\"car_block\"})))\n",
    "# print(pagina.body.find_all(name=\"div\", attrs={\"class\":\"car_block\"})[-1])\n",
    "# car_divs = pagina.body.find_all(name=\"div\", attrs={\"class\":\"car_block\"})\n",
    "# div = car_divs[0]\n",
    "# print(div['class'])\n",
    "\n",
    "# print(div.prettify())\n",
    "# print(div)\n",
    "# print('=======================')\n",
    "# print(div.text) #Sin elementos HTML  :)\n",
    "# print(div.stripped_strings) #generador, similar a un iterable\n",
    "# print(list(div.stripped_strings))\n",
    "\n",
    "# span = div.find(name=\"span\")\n",
    "# print(span)\n",
    "# print('=======================')\n",
    "# print(span.find_next_sibling())\n",
    "# print('=======================')\n",
    "# print(span.find_parent())"
   ]
  },
  {
   "cell_type": "code",
   "execution_count": 22,
   "metadata": {},
   "outputs": [
    {
     "data": {
      "text/plain": [
       "'18.0'"
      ]
     },
     "execution_count": 22,
     "metadata": {},
     "output_type": "execute_result"
    }
   ],
   "source": [
    "# div.find(\"span\", attrs={\"class\":\"mpg\"}).text  #18.0 mpg\n",
    "div.find(\"span\", attrs={\"class\":\"mpg\"}).text.split(\" \")[0]"
   ]
  },
  {
   "cell_type": "code",
   "execution_count": 33,
   "metadata": {},
   "outputs": [
    {
     "data": {
      "text/plain": [
       "'Chevrolet Chevelle Malibu (1970, USA)  Achieves 18.0 mpg with 8 cylinders backed by 130 hp, 307.0 cubic inches of displacement, weighing 3,504 lbs with 0-60 mph acceleration in 12.0 seconds'"
      ]
     },
     "execution_count": 33,
     "metadata": {},
     "output_type": "execute_result"
    }
   ],
   "source": [
    "div.text"
   ]
  },
  {
   "cell_type": "code",
   "execution_count": 23,
   "metadata": {},
   "outputs": [
    {
     "data": {
      "text/plain": [
       "'307.0'"
      ]
     },
     "execution_count": 23,
     "metadata": {},
     "output_type": "execute_result"
    }
   ],
   "source": [
    "# print(div.text)\n",
    "import re\n",
    "re.findall(r'.* (\\d+.\\d+) cubic inches', div.text)[0]\n",
    "#Continuar experimentando estrategias para extraer datos\n",
    "#Finalmente, crear funciones para cada item de datos y procesar los elementos que contienen los datos"
   ]
  },
  {
   "cell_type": "code",
   "execution_count": null,
   "metadata": {},
   "outputs": [],
   "source": []
  }
 ],
 "metadata": {
  "kernelspec": {
   "display_name": "Python 3 (ipykernel)",
   "language": "python",
   "name": "python3"
  },
  "language_info": {
   "codemirror_mode": {
    "name": "ipython",
    "version": 3
   },
   "file_extension": ".py",
   "mimetype": "text/x-python",
   "name": "python",
   "nbconvert_exporter": "python",
   "pygments_lexer": "ipython3",
   "version": "3.12.9"
  }
 },
 "nbformat": 4,
 "nbformat_minor": 4
}
