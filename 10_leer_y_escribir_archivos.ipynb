{
 "cells": [
  {
   "cell_type": "markdown",
   "id": "9e325849",
   "metadata": {},
   "source": [
    "# Leer y escribir archivos\n",
    "\n",
    "## Consideraciones generales\n",
    "\n",
    "**Rutas**\n",
    "\n",
    "El separador de directorios en Windows es ```\\``` y MacOS\\Linux es ```/```.\n",
    "\n",
    "**Final de línea**\n",
    "\n",
    "En Windows el final de línea en archivos de texto se marca con la secuencia de caracteres Carriage Return seguida de Line Feed (```\\r\\n```); en MacOS\\Linux solamente se emplea ```\\n```.\n",
    "\n",
    "Un archivo con el siguiente contenido creado en Windows:\n",
    "\n",
    "```\n",
    "uno\\r\\n\n",
    "dos\\r\\n\n",
    "tres\\r\\n\n",
    "```\n",
    "\n",
    "Podría interpretarse de la siguiente manera en MacOS\\Linux:\n",
    "\n",
    "```\n",
    "uno\\r\n",
    "\\n\n",
    "dos\\r\n",
    "\\n\n",
    "tres\\r\n",
    "\\n\n",
    "```\n",
    "\n",
    "**Codificación de caracteres**\n",
    "\n",
    "La [codificación de caracteres](https://es.wikipedia.org/wiki/Codificaci%C3%B3n_de_caracteres) consiste en asignar un valor numérico a los caracteres empleados en la escritura de lenguaje natural.\n",
    "\n",
    "Leer un archivo empleado una codificación distinta a la empleada para crear el archivo puede generar errores en la representación de los caracteres.\n"
   ]
  },
  {
   "cell_type": "markdown",
   "id": "d138de52",
   "metadata": {},
   "source": [
    "## Leer archivos\n",
    "\n",
    "Para leer (o escribir) desde/hacia un archivo primero hay que abrirlo empleando la función [open](https://docs.python.org/3/library/functions.html#open) de la librería estándard"
   ]
  },
  {
   "cell_type": "code",
   "execution_count": 1,
   "id": "04abb607",
   "metadata": {},
   "outputs": [
    {
     "name": "stdout",
     "output_type": "stream",
     "text": [
      "Copyright 2012 David Leaver\n",
      "\n",
      "Permission is hereby granted, free of charge, to any person obtaining\n",
      "a copy of this software and associated documentation files (the\n",
      "\"Software\"), to deal in the Software without restriction, including\n",
      "without limitation the rights to use, copy, modify, merge, publish,\n",
      "distribute, sublicense, and/or sell copies of the Software, and to\n",
      "permit persons to whom the Software is furnished to do so, subject to\n",
      "the following conditions:\n",
      "\n",
      "The above copyright notice and this permission notice shall be\n",
      "included in all copies or substantial portions of the Software.\n",
      "\n",
      "THE SOFTWARE IS PROVIDED \"AS IS\", WITHOUT WARRANTY OF ANY KIND,\n",
      "EXPRESS OR IMPLIED, INCLUDING BUT NOT LIMITED TO THE WARRANTIES OF\n",
      "MERCHANTABILITY, FITNESS FOR A PARTICULAR PURPOSE AND\n",
      "NONINFRINGEMENT. IN NO EVENT SHALL THE AUTHORS OR COPYRIGHT HOLDERS BE\n",
      "LIABLE FOR ANY CLAIM, DAMAGES OR OTHER LIABILITY, WHETHER IN AN ACTION\n",
      "OF CONTRACT, TORT OR OTHERWISE, ARISING FROM, OUT OF OR IN CONNECTION\n",
      "WITH THE SOFTWARE OR THE USE OR OTHER DEALINGS IN THE SOFTWARE.\n",
      "\n"
     ]
    }
   ],
   "source": [
    "from pathlib import Path\n",
    "\n",
    "licence_folder = Path(\"licences/\")\n",
    "licence_file = licence_folder / \"MIT-LICENCE.txt\"\n",
    "\n",
    "#esta ruta es equivalente a la anterior\n",
    "# licence_folder = Path(\"licences/MIT-LICENCE.txt\")\n",
    "\n",
    "\n",
    "#Reads the entire file.\n",
    "with open(licence_file, 'r') as reader:\n",
    "    print(reader.read())"
   ]
  },
  {
   "cell_type": "code",
   "execution_count": 2,
   "id": "f743c6f4",
   "metadata": {},
   "outputs": [
    {
     "name": "stdout",
     "output_type": "stream",
     "text": [
      "['Copyright 2012 David Leaver\\n', '\\n', 'Permission is hereby granted, free of charge, to any person obtaining\\n', 'a copy of this software and associated documentation files (the\\n', '\"Software\"), to deal in the Software without restriction, including\\n', 'without limitation the rights to use, copy, modify, merge, publish,\\n', 'distribute, sublicense, and/or sell copies of the Software, and to\\n', 'permit persons to whom the Software is furnished to do so, subject to\\n', 'the following conditions:\\n', '\\n', 'The above copyright notice and this permission notice shall be\\n', 'included in all copies or substantial portions of the Software.\\n', '\\n', 'THE SOFTWARE IS PROVIDED \"AS IS\", WITHOUT WARRANTY OF ANY KIND,\\n', 'EXPRESS OR IMPLIED, INCLUDING BUT NOT LIMITED TO THE WARRANTIES OF\\n', 'MERCHANTABILITY, FITNESS FOR A PARTICULAR PURPOSE AND\\n', 'NONINFRINGEMENT. IN NO EVENT SHALL THE AUTHORS OR COPYRIGHT HOLDERS BE\\n', 'LIABLE FOR ANY CLAIM, DAMAGES OR OTHER LIABILITY, WHETHER IN AN ACTION\\n', 'OF CONTRACT, TORT OR OTHERWISE, ARISING FROM, OUT OF OR IN CONNECTION\\n', 'WITH THE SOFTWARE OR THE USE OR OTHER DEALINGS IN THE SOFTWARE.\\n']\n"
     ]
    }
   ],
   "source": [
    "#Read all lines and returns a list\n",
    "with open(licence_file, 'r') as reader:\n",
    "    print(reader.readlines())"
   ]
  },
  {
   "cell_type": "code",
   "execution_count": 3,
   "id": "b7cb1b38",
   "metadata": {},
   "outputs": [
    {
     "name": "stdout",
     "output_type": "stream",
     "text": [
      "Copyright 2012 David Leaver\n",
      "\n",
      "Permission is hereby granted, free of charge, to any person obtaining\n",
      "a copy of this software and associated documentation files (the\n",
      "\"Software\"), to deal in the Software without restriction, including\n",
      "without limitation the rights to use, copy, modify, merge, publish,\n",
      "distribute, sublicense, and/or sell copies of the Software, and to\n",
      "permit persons to whom the Software is furnished to do so, subject to\n",
      "the following conditions:\n",
      "\n",
      "The above copyright notice and this permission notice shall be\n",
      "included in all copies or substantial portions of the Software.\n",
      "\n",
      "THE SOFTWARE IS PROVIDED \"AS IS\", WITHOUT WARRANTY OF ANY KIND,\n",
      "EXPRESS OR IMPLIED, INCLUDING BUT NOT LIMITED TO THE WARRANTIES OF\n",
      "MERCHANTABILITY, FITNESS FOR A PARTICULAR PURPOSE AND\n",
      "NONINFRINGEMENT. IN NO EVENT SHALL THE AUTHORS OR COPYRIGHT HOLDERS BE\n",
      "LIABLE FOR ANY CLAIM, DAMAGES OR OTHER LIABILITY, WHETHER IN AN ACTION\n",
      "OF CONTRACT, TORT OR OTHERWISE, ARISING FROM, OUT OF OR IN CONNECTION\n",
      "WITH THE SOFTWARE OR THE USE OR OTHER DEALINGS IN THE SOFTWARE.\n"
     ]
    }
   ],
   "source": [
    "#Reads line by line\n",
    "with open(licence_file, 'r') as reader:\n",
    "    for line in reader:\n",
    "        print(line, end='') #So that the print function does not add its own line ending char"
   ]
  },
  {
   "cell_type": "markdown",
   "id": "e695e0f5",
   "metadata": {},
   "source": [
    "## Escribir archivos\n"
   ]
  },
  {
   "cell_type": "code",
   "execution_count": 4,
   "id": "fca7e7f8",
   "metadata": {},
   "outputs": [],
   "source": [
    "with open(licence_file, 'r') as reader:\n",
    "    mit_licence = reader.read()\n",
    "    \n",
    "\n",
    "with open(licence_folder / \"MIT-LICENCE-UPPER.txt\", 'w') as writer:\n",
    "    writer.write(mit_licence.upper())"
   ]
  },
  {
   "cell_type": "code",
   "execution_count": 5,
   "id": "f7dc4039",
   "metadata": {},
   "outputs": [],
   "source": [
    "with open(licence_file, 'r') as reader:\n",
    "    mit_licence_lines = reader.readlines()\n",
    "    \n",
    "\n",
    "with open(licence_folder / \"MIT-LICENCE-REVERSED.txt\", 'w') as writer:\n",
    "    #writer.writelines(reversed(mit_licence_lines))\n",
    "    \n",
    "    for line in reversed(mit_licence_lines):\n",
    "        writer.write(line)"
   ]
  },
  {
   "cell_type": "markdown",
   "id": "09bcf543",
   "metadata": {},
   "source": [
    "## Operar con más de un archivo simultáneamente"
   ]
  },
  {
   "cell_type": "code",
   "execution_count": 6,
   "id": "1d472a4b",
   "metadata": {},
   "outputs": [],
   "source": [
    "licence_path = Path(\"licences/MIT-LICENCE.txt\")\n",
    "reversed_licence_path = Path(\"licences/MIT-LICENCE-REVERSED.txt\") \n",
    "\n",
    "with open(licence_path, 'r') as reader, open(reversed_licence_path, 'w') as writer:\n",
    "    mit_licence_lines = reader.readlines()\n",
    "    writer.writelines(reversed(mit_licence_lines))"
   ]
  },
  {
   "cell_type": "markdown",
   "id": "6c87745d",
   "metadata": {},
   "source": [
    "## Al leer, emplear la misma codificación empleada al crear el archivo"
   ]
  },
  {
   "cell_type": "code",
   "execution_count": 7,
   "id": "41e8c729",
   "metadata": {},
   "outputs": [
    {
     "data": {
      "text/plain": [
       "4"
      ]
     },
     "execution_count": 7,
     "metadata": {},
     "output_type": "execute_result"
    }
   ],
   "source": [
    "open('cafe.txt', 'w', encoding='utf_8').write('café')"
   ]
  },
  {
   "cell_type": "code",
   "execution_count": 8,
   "id": "b6e2720c",
   "metadata": {},
   "outputs": [
    {
     "data": {
      "text/plain": [
       "'cafÃ©'"
      ]
     },
     "execution_count": 8,
     "metadata": {},
     "output_type": "execute_result"
    }
   ],
   "source": [
    "#Uses the default encoding: \n",
    "# in Linux is utf_8 (so, this would work just fine!), \n",
    "# in Windows is cp1252 and get a differt char\n",
    "open('cafe.txt', 'r').read()"
   ]
  },
  {
   "cell_type": "markdown",
   "id": "da031f1d",
   "metadata": {},
   "source": [
    "**No depender de la codificación por defecto!!**"
   ]
  },
  {
   "cell_type": "code",
   "execution_count": 9,
   "id": "763ba9fe",
   "metadata": {},
   "outputs": [
    {
     "data": {
      "text/plain": [
       "'café'"
      ]
     },
     "execution_count": 9,
     "metadata": {},
     "output_type": "execute_result"
    }
   ],
   "source": [
    "open('cafe.txt', 'r', encoding='utf_8').read()"
   ]
  },
  {
   "cell_type": "markdown",
   "id": "f369a1b6",
   "metadata": {},
   "source": [
    "**Obtener información sobre la codificación por defecto**"
   ]
  },
  {
   "cell_type": "code",
   "execution_count": 10,
   "id": "efdc34f8",
   "metadata": {},
   "outputs": [
    {
     "name": "stdout",
     "output_type": "stream",
     "text": [
      " locale.getpreferredencoding() -> 'cp1252'\n",
      "                 type(my_file) -> <class '_io.TextIOWrapper'>\n",
      "              my_file.encoding -> 'cp1252'\n",
      "           sys.stdout.isatty() -> False\n",
      "           sys.stdout.encoding -> 'UTF-8'\n",
      "            sys.stdin.isatty() -> False\n",
      "            sys.stdin.encoding -> 'cp1252'\n",
      "           sys.stderr.isatty() -> False\n",
      "           sys.stderr.encoding -> 'UTF-8'\n",
      "      sys.getdefaultencoding() -> 'utf-8'\n",
      "   sys.getfilesystemencoding() -> 'utf-8'\n"
     ]
    }
   ],
   "source": [
    "import locale\n",
    "import sys\n",
    "\n",
    "expressions = \"\"\"\n",
    " locale.getpreferredencoding()\n",
    " type(my_file)\n",
    " my_file.encoding\n",
    " sys.stdout.isatty()\n",
    " sys.stdout.encoding\n",
    " sys.stdin.isatty()\n",
    " sys.stdin.encoding\n",
    " sys.stderr.isatty()\n",
    " sys.stderr.encoding\n",
    " sys.getdefaultencoding()\n",
    " sys.getfilesystemencoding()\n",
    " \"\"\"\n",
    "\n",
    "my_file = open('dummy', 'w')\n",
    "\n",
    "for expression in expressions.split():\n",
    "    value = eval(expression)\n",
    "    print(f'{expression:>30} -> {value!r}')"
   ]
  },
  {
   "cell_type": "markdown",
   "id": "d520fe76",
   "metadata": {},
   "source": [
    "## Recomendaciones\n",
    "\n",
    "- Evitar re-inventar funciones que ya existen en la librería estándard: leer/escribir archivos [csv](https://realpython.com/python-csv/), leer/escribir archivos [json](https://realpython.com/python-json/)."
   ]
  },
  {
   "cell_type": "markdown",
   "id": "bc4c1b47",
   "metadata": {},
   "source": [
    "## Referencias\n",
    "\n",
    "- [Reading and Writing Files in Python (Guide)](https://realpython.com/read-write-files-python/)\n",
    "- [How to Deal With Files in Google Colab: Everything You Need to Know](https://neptune.ai/blog/google-colab-dealing-with-files)\n",
    "- [Cómo Leer y Escribir Archivos CSV en Python](https://code.tutsplus.com/es/how-to-read-and-write-csv-files-in-python--cms-29907t)\n"
   ]
  },
  {
   "cell_type": "code",
   "execution_count": null,
   "id": "5640e69f",
   "metadata": {},
   "outputs": [],
   "source": []
  }
 ],
 "metadata": {
  "kernelspec": {
   "display_name": "Python 3 (ipykernel)",
   "language": "python",
   "name": "python3"
  },
  "language_info": {
   "codemirror_mode": {
    "name": "ipython",
    "version": 3
   },
   "file_extension": ".py",
   "mimetype": "text/x-python",
   "name": "python",
   "nbconvert_exporter": "python",
   "pygments_lexer": "ipython3",
   "version": "3.12.9"
  }
 },
 "nbformat": 4,
 "nbformat_minor": 5
}
