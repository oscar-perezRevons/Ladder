{
 "cells": [
  {
   "cell_type": "markdown",
   "metadata": {},
   "source": [
    "## Ejemplo\n",
    "\n",
    "- Organizar el código **optimizando la legibilidad y manteniendo siempre el nivel de complejidad de cada función por debajo de cierto umbral**. En el ejemplo, la complejidad se mide empleando la complejidad ciclomática y el umbral es 7.\n",
    "\n",
    "\n",
    "- Preservar el nivel de abstracción: evitar mezclar, en la misma función, llamadas a funciones que indican *qué* hace una tarea con código que muestra *cómo* se realiza una tarea. **Los nombres de las funciones y variables deben reflejar su propósito**. A mayor cantidad de líneas en la función, más difícil encontrar un nombre adecuado.\n",
    "\n",
    "\n",
    "- Aplicar el [**principio de responsabilidad única**](https://es.wikipedia.org/wiki/Principio_de_responsabilidad_%C3%BAnica): toda función debe tener solo una razón para ser modificada.\n",
    "\n",
    "\n",
    "- Preferir un enfoque funcional (para evitar ciclos y estructuras condicionales lo más que se pueda).\n",
    "\n",
    "\n",
    "```\n",
    "radon cc --include-ipynb -s 02_extraccion/03_web_scraping_and_webservices/02_web_scraping_ejemplo.ipynb\n",
    "```"
   ]
  },
  {
   "cell_type": "code",
   "execution_count": 1,
   "metadata": {},
   "outputs": [],
   "source": [
    "import csv\n",
    "import re\n",
    "import requests\n",
    "from bs4 import BeautifulSoup"
   ]
  },
  {
   "cell_type": "code",
   "execution_count": 2,
   "metadata": {},
   "outputs": [],
   "source": [
    "def extraer_nombre(div_automovil):\n",
    "    return div_automovil.find('span', class_='car_name').text"
   ]
  },
  {
   "cell_type": "code",
   "execution_count": 3,
   "metadata": {},
   "outputs": [],
   "source": [
    "def extraer_cilindros(div_automovil):\n",
    "    str_cilindros = div_automovil.find('span', class_='cylinders').text\n",
    "    return int(str_cilindros)"
   ]
  },
  {
   "cell_type": "code",
   "execution_count": 4,
   "metadata": {},
   "outputs": [],
   "source": [
    "def extraer_peso(div_automovil):\n",
    "    str_peso = div_automovil.find('span', class_='weight').text\n",
    "    return int(str_peso.replace(',', ''))"
   ]
  },
  {
   "cell_type": "code",
   "execution_count": 5,
   "metadata": {},
   "outputs": [],
   "source": [
    "def extraer_aceleracion(div_automovil):\n",
    "    return float(div_automovil.find('span', class_='acceleration').text)"
   ]
  },
  {
   "cell_type": "code",
   "execution_count": 6,
   "metadata": {},
   "outputs": [],
   "source": [
    "#Funciones que realizan más de una tarea deben ser la excepción, NO la regla\n",
    "def extraer_territorio_anio(div_automovil):\n",
    "    str_from = div_automovil.find(\"span\", attrs={\"class\":\"from\"}).text\n",
    "    anio, territorio = str_from.strip('()').split(',')\n",
    "    anio = int(anio.strip())\n",
    "    territorio = territorio.strip()\n",
    "    return territorio, anio"
   ]
  },
  {
   "cell_type": "code",
   "execution_count": 7,
   "metadata": {},
   "outputs": [],
   "source": [
    "def extraer_mpg(div_automovil):\n",
    "    mpg_str = div_automovil.find(\"span\", attrs={\"class\":\"mpg\"}).text\n",
    "    try:\n",
    "        mpg = float(mpg_str.split(' ')[0])\n",
    "    except ValueError:\n",
    "        mpg = \"NULL\"\n",
    "    return mpg"
   ]
  },
  {
   "cell_type": "code",
   "execution_count": 8,
   "metadata": {},
   "outputs": [],
   "source": [
    "def extraer_caballos_potencia(div_automovil):\n",
    "    caballos_potencia_str = div_automovil.find('span', class_='horsepower').text\n",
    "    try:\n",
    "        caballos_potencia = float(caballos_potencia_str)\n",
    "    except ValueError:\n",
    "        caballos_potencia = \"NULL\"\n",
    "    return caballos_potencia"
   ]
  },
  {
   "cell_type": "code",
   "execution_count": 9,
   "metadata": {},
   "outputs": [],
   "source": [
    "def extraer_desplazamiento(div_automovil_text):\n",
    "    str_desplazamiento = re.findall(r'.* (\\d+.\\d+) cubic inches', div_automovil_text)[0]\n",
    "    desplazamiento = float(str_desplazamiento)\n",
    "    return desplazamiento  "
   ]
  },
  {
   "cell_type": "code",
   "execution_count": 10,
   "metadata": {},
   "outputs": [],
   "source": [
    "#Nivel de abstracción 3\n",
    "def extraer_datos(div_automovil):\n",
    "    nombre = extraer_nombre(div_automovil)\n",
    "    cilindros = extraer_cilindros(div_automovil)\n",
    "    peso = extraer_peso(div_automovil)\n",
    "    territorio, anio = extraer_territorio_anio(div_automovil)\n",
    "    # territorio = extraer_territorio(div_automovil)\n",
    "    # anio = extraer_anio(div_automovil)\n",
    "    aceleracion = extraer_aceleracion(div_automovil)\n",
    "    mpg = extraer_mpg(div_automovil)\n",
    "    caballos_potencia = extraer_caballos_potencia(div_automovil)\n",
    "    desplazamiento = extraer_desplazamiento(div_automovil.text)\n",
    "    \n",
    "    return dict(nombre=nombre, \n",
    "               cilindros=cilindros,\n",
    "               peso=peso,\n",
    "               anio=anio,\n",
    "               territorio=territorio,\n",
    "               aceleracion=aceleracion,\n",
    "               mpg=mpg,\n",
    "               caballos_potencia=caballos_potencia,\n",
    "               desplazamiento=desplazamiento)"
   ]
  },
  {
   "cell_type": "code",
   "execution_count": 11,
   "metadata": {},
   "outputs": [],
   "source": [
    "def obtener_pagina(url):\n",
    "    respuesta = requests.get(url)\n",
    "    return BeautifulSoup(respuesta.text, \"html.parser\" )"
   ]
  },
  {
   "cell_type": "code",
   "execution_count": 12,
   "metadata": {},
   "outputs": [],
   "source": [
    "def obtener_divs_automoviles(pagina):\n",
    "    return pagina.body.find_all(name=\"div\", attrs={\"class\":\"car_block\"})"
   ]
  },
  {
   "cell_type": "code",
   "execution_count": 13,
   "metadata": {},
   "outputs": [],
   "source": [
    "def extraer_datos_automoviles(divs_automoviles):\n",
    "    #Este bloque es equivalente al list comprehension\n",
    "#     datos_automoviles = []\n",
    "#     for div_automovil in divs_automoviles:\n",
    "#         datos_automoviles.add(extraer_datos(div_automovil))\n",
    "    \n",
    "#     return datos_automoviles\n",
    "\n",
    "    return [extraer_datos(div_automovil) for div_automovil in divs_automoviles]"
   ]
  },
  {
   "cell_type": "code",
   "execution_count": 14,
   "metadata": {},
   "outputs": [],
   "source": [
    "def guardar_datos_automoviles_en_archivo_csv(datos_automoviles):\n",
    "    with open(\"datos_automoviles.csv\", \"w\", encoding=\"utf-8\", newline=\"\") as file_writer:\n",
    "        writer = csv.DictWriter(file_writer, fieldnames=datos_automoviles[0].keys())\n",
    "        writer.writeheader()\n",
    "        writer.writerows(datos_automoviles)"
   ]
  },
  {
   "cell_type": "code",
   "execution_count": 15,
   "metadata": {},
   "outputs": [],
   "source": [
    "#Nivel de abstracción 2\n",
    "def extraer_datos_automoviles_en_archivo_csv(pagina):\n",
    "    divs_automoviles = obtener_divs_automoviles(pagina)\n",
    "    datos_automoviles = extraer_datos_automoviles(divs_automoviles)\n",
    "    guardar_datos_automoviles_en_archivo_csv(datos_automoviles)"
   ]
  },
  {
   "cell_type": "code",
   "execution_count": 16,
   "metadata": {},
   "outputs": [],
   "source": [
    "#Nivel de abstracción 1\n",
    "pagina = obtener_pagina(\"http://localhost:8000/auto_mpg.html\")\n",
    "extraer_datos_automoviles_en_archivo_csv(pagina)"
   ]
  },
  {
   "cell_type": "code",
   "execution_count": null,
   "metadata": {},
   "outputs": [],
   "source": []
  },
  {
   "cell_type": "code",
   "execution_count": null,
   "metadata": {},
   "outputs": [],
   "source": []
  },
  {
   "cell_type": "code",
   "execution_count": null,
   "metadata": {},
   "outputs": [],
   "source": []
  }
 ],
 "metadata": {
  "kernelspec": {
   "display_name": "Python 3 (ipykernel)",
   "language": "python",
   "name": "python3"
  },
  "language_info": {
   "codemirror_mode": {
    "name": "ipython",
    "version": 3
   },
   "file_extension": ".py",
   "mimetype": "text/x-python",
   "name": "python",
   "nbconvert_exporter": "python",
   "pygments_lexer": "ipython3",
   "version": "3.12.9"
  }
 },
 "nbformat": 4,
 "nbformat_minor": 4
}
